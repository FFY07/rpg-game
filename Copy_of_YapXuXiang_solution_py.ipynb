{
  "nbformat": 4,
  "nbformat_minor": 0,
  "metadata": {
    "colab": {
      "provenance": [],
      "authorship_tag": "ABX9TyOrGjWuyX/t4FDGd3G0PNyF",
      "include_colab_link": true
    },
    "kernelspec": {
      "name": "python3",
      "display_name": "Python 3"
    },
    "language_info": {
      "name": "python"
    }
  },
  "cells": [
    {
      "cell_type": "markdown",
      "metadata": {
        "id": "view-in-github",
        "colab_type": "text"
      },
      "source": [
        "<a href=\"https://colab.research.google.com/github/FFY07/rpg-game/blob/main/Copy_of_YapXuXiang_solution_py.ipynb\" target=\"_parent\"><img src=\"https://colab.research.google.com/assets/colab-badge.svg\" alt=\"Open In Colab\"/></a>"
      ]
    },
    {
      "cell_type": "code",
      "execution_count": 1,
      "metadata": {
        "id": "GpvXfdOMw9AY"
      },
      "outputs": [],
      "source": [
        "def studentname(myName, myEmail, myBBUsername):\n",
        "  myName = \"Yap Xu Xiang\"\n",
        "  myEmail = \"xx1001yap@gmail.com\"\n",
        "  myBBUsername = \"758ENHNH\""
      ]
    },
    {
      "cell_type": "code",
      "source": [
        "def calAverage(numbers):\n",
        "    # Check if the list is not empty\n",
        "    if not numbers:\n",
        "        return 0.00  # Return 0 if the list is empty\n",
        "\n",
        "    # Calculate the average\n",
        "    result = sum(numbers) / len(numbers)\n",
        "\n",
        "    # Return the result with 2 decimal places\n",
        "    return round(result, 2)\n"
      ],
      "metadata": {
        "id": "rYTb50iP02kd"
      },
      "execution_count": 2,
      "outputs": []
    },
    {
      "cell_type": "code",
      "source": [
        "def countCharacter(sentence):\n",
        "    # Initialize counters\n",
        "    total_letters = 0\n",
        "    uppercase_letters = 0\n",
        "    lowercase_letters = 0\n",
        "    total_digits = 0\n",
        "    other_characters = 0\n",
        "\n",
        "    # Iterate through each character in the sentence\n",
        "    for char in sentence:\n",
        "        if char.isalpha():\n",
        "            total_letters += 1\n",
        "            if char.isupper():\n",
        "                uppercase_letters += 1\n",
        "            elif char.islower():\n",
        "                lowercase_letters += 1\n",
        "        elif char.isdigit():\n",
        "            total_digits += 1\n",
        "        else:\n",
        "            other_characters += 1\n",
        "\n",
        "    # Return the result as a list\n",
        "    result_list = [total_letters, uppercase_letters, lowercase_letters, total_digits, other_characters]\n",
        "    return result_list\n",
        "\n",
        "# Example usage:\n",
        "input_sentence = \"Hell0 WorlD!!!4567\"\n",
        "result = countCharacter(input_sentence)\n",
        "print(result)\n"
      ],
      "metadata": {
        "colab": {
          "base_uri": "https://localhost:8080/"
        },
        "id": "kncYc0_k2tBH",
        "outputId": "767147c2-4d8b-41cc-90a1-d7418633c20f"
      },
      "execution_count": 3,
      "outputs": [
        {
          "output_type": "stream",
          "name": "stdout",
          "text": [
            "[9, 3, 6, 5, 4]\n"
          ]
        }
      ]
    },
    {
      "cell_type": "code",
      "source": [
        "def excludeItem(item1, item2):\n",
        "    # Use set to find common items and eliminate duplicates\n",
        "    common_items = list(set(item1) & set(item2))\n",
        "\n",
        "    return common_items\n",
        "\n",
        "# Example usage:\n",
        "list1 = [1, 2, 3, 4, 2, 1]\n",
        "list2 = [2, 4, 4, 2]\n",
        "\n",
        "result = excludeItem(list1, list2)\n",
        "print(result)\n"
      ],
      "metadata": {
        "colab": {
          "base_uri": "https://localhost:8080/"
        },
        "id": "iid5h1N-7Hmc",
        "outputId": "f8b7d891-a340-43bd-ce79-6bb06268ee51"
      },
      "execution_count": 4,
      "outputs": [
        {
          "output_type": "stream",
          "name": "stdout",
          "text": [
            "[2, 4]\n"
          ]
        }
      ]
    },
    {
      "cell_type": "code",
      "source": [
        "def secondLarge(numbers):\n",
        "    if not all(isinstance(num, int) for num in numbers):\n",
        "        return -999  # Return -999 if the list contains non-integer elements\n",
        "\n",
        "    if len(numbers) == 1:\n",
        "        return numbers[0]  # Return the only number if the list contains only one number\n",
        "    elif len(numbers) == 2:\n",
        "        return min(numbers)  # Return the smallest number if the list contains only two numbers\n",
        "\n",
        "    # Remove duplicates and sort the list in descending order\n",
        "    unique_sorted_numbers = sorted(set(numbers), reverse=True)\n",
        "\n",
        "    return unique_sorted_numbers[1]  # Return the second largest number\n",
        "\n",
        "# Example usage:\n",
        "list1 = [1, 2, 3, 4, 5, 6]\n",
        "list2 = [6, 8, 3, 4, 6]\n",
        "list3 = [53, 23]\n",
        "list4 = [13]\n",
        "list5 = [12, 'not number', 23]\n",
        "\n",
        "result1 = secondLarge(list1)\n",
        "result2 = secondLarge(list2)\n",
        "result3 = secondLarge(list3)\n",
        "result4 = secondLarge(list4)\n",
        "result5 = secondLarge(list5)\n",
        "\n",
        "print(result1)  # Output: 5\n",
        "print(result2)  # Output: 6\n",
        "print(result3)  # Output: 23\n",
        "print(result4)  # Output: 13\n",
        "print(result5)  # Output: -999\n"
      ],
      "metadata": {
        "colab": {
          "base_uri": "https://localhost:8080/"
        },
        "id": "RrLuBBm99PCD",
        "outputId": "b33f5882-c4ac-4fd1-dffd-c8bb66fcb7d2"
      },
      "execution_count": 5,
      "outputs": [
        {
          "output_type": "stream",
          "name": "stdout",
          "text": [
            "5\n",
            "6\n",
            "23\n",
            "13\n",
            "-999\n"
          ]
        }
      ]
    },
    {
      "cell_type": "code",
      "source": [
        "import string\n",
        "\n",
        "def isValidPassword(password):\n",
        "    # Check if the password has at least 10 characters\n",
        "    if len(password) < 10:\n",
        "        return False\n",
        "\n",
        "    # Check for at least one uppercase and one lowercase letter\n",
        "    if not any(char.isupper() for char in password) or not any(char.islower() for char in password):\n",
        "        return False\n",
        "\n",
        "    # Check for at least 3 digits\n",
        "    if sum(char.isdigit() for char in password) < 3:\n",
        "        return False\n",
        "\n",
        "    # Check for at least 2 special characters (including whitespace)\n",
        "    special_characters = string.punctuation + ' '\n",
        "    if sum(char in special_characters for char in password) < 2:\n",
        "        return False\n",
        "\n",
        "    # All criteria met, return True\n",
        "    return True\n",
        "\n",
        "# Example usage:\n",
        "password1 = \"Ilovetoeat376!?\"\n",
        "password2 = \"BasketBALL1!\"\n",
        "password3 = \"Sunny12345!\"\n",
        "password4 = \"Ilovetosleep\"\n",
        "password5 = \"Working@home & sleep\"\n",
        "password6 = \"P@assword@123 maybe\"\n",
        "\n",
        "print(isValidPassword(password1))  # Output: True\n",
        "print(isValidPassword(password2))  # Output: False\n",
        "print(isValidPassword(password3))  # Output: False\n",
        "print(isValidPassword(password4))  # Output: False\n",
        "print(isValidPassword(password5))  # Output: False\n",
        "print(isValidPassword(password6))  # Output: False\n"
      ],
      "metadata": {
        "colab": {
          "base_uri": "https://localhost:8080/"
        },
        "id": "dqv4KVVj_ODo",
        "outputId": "2c0f43ed-6f30-4af1-deef-2af21c939c73"
      },
      "execution_count": 6,
      "outputs": [
        {
          "output_type": "stream",
          "name": "stdout",
          "text": [
            "True\n",
            "False\n",
            "False\n",
            "False\n",
            "False\n",
            "True\n"
          ]
        }
      ]
    }
  ]
}